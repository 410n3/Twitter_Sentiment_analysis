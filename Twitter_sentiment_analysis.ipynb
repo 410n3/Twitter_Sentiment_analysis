{
  "nbformat": 4,
  "nbformat_minor": 0,
  "metadata": {
    "colab": {
      "provenance": []
    },
    "kernelspec": {
      "name": "python3",
      "display_name": "Python 3"
    },
    "language_info": {
      "name": "python"
    }
  },
  "cells": [
    {
      "cell_type": "code",
      "execution_count": null,
      "metadata": {
        "colab": {
          "base_uri": "https://localhost:8080/"
        },
        "id": "1twb6AI06iiR",
        "outputId": "51c8afcf-f7fa-43bf-ce75-077fcb49f7e2"
      },
      "outputs": [
        {
          "output_type": "stream",
          "name": "stdout",
          "text": [
            "Requirement already satisfied: ipython-autotime in /usr/local/lib/python3.10/dist-packages (0.3.1)\n",
            "Requirement already satisfied: ipython in /usr/local/lib/python3.10/dist-packages (from ipython-autotime) (7.34.0)\n",
            "Requirement already satisfied: setuptools>=18.5 in /usr/local/lib/python3.10/dist-packages (from ipython->ipython-autotime) (67.7.2)\n",
            "Requirement already satisfied: jedi>=0.16 in /usr/local/lib/python3.10/dist-packages (from ipython->ipython-autotime) (0.18.2)\n",
            "Requirement already satisfied: decorator in /usr/local/lib/python3.10/dist-packages (from ipython->ipython-autotime) (4.4.2)\n",
            "Requirement already satisfied: pickleshare in /usr/local/lib/python3.10/dist-packages (from ipython->ipython-autotime) (0.7.5)\n",
            "Requirement already satisfied: traitlets>=4.2 in /usr/local/lib/python3.10/dist-packages (from ipython->ipython-autotime) (5.7.1)\n",
            "Requirement already satisfied: prompt-toolkit!=3.0.0,!=3.0.1,<3.1.0,>=2.0.0 in /usr/local/lib/python3.10/dist-packages (from ipython->ipython-autotime) (3.0.39)\n",
            "Requirement already satisfied: pygments in /usr/local/lib/python3.10/dist-packages (from ipython->ipython-autotime) (2.14.0)\n",
            "Requirement already satisfied: backcall in /usr/local/lib/python3.10/dist-packages (from ipython->ipython-autotime) (0.2.0)\n",
            "Requirement already satisfied: matplotlib-inline in /usr/local/lib/python3.10/dist-packages (from ipython->ipython-autotime) (0.1.6)\n",
            "Requirement already satisfied: pexpect>4.3 in /usr/local/lib/python3.10/dist-packages (from ipython->ipython-autotime) (4.8.0)\n",
            "Requirement already satisfied: parso<0.9.0,>=0.8.0 in /usr/local/lib/python3.10/dist-packages (from jedi>=0.16->ipython->ipython-autotime) (0.8.3)\n",
            "Requirement already satisfied: ptyprocess>=0.5 in /usr/local/lib/python3.10/dist-packages (from pexpect>4.3->ipython->ipython-autotime) (0.7.0)\n",
            "Requirement already satisfied: wcwidth in /usr/local/lib/python3.10/dist-packages (from prompt-toolkit!=3.0.0,!=3.0.1,<3.1.0,>=2.0.0->ipython->ipython-autotime) (0.2.6)\n"
          ]
        }
      ],
      "source": [
        "!pip install ipython-autotime"
      ]
    },
    {
      "cell_type": "code",
      "source": [
        "import warnings\n",
        "warnings.filterwarnings('ignore')\n",
        "import pandas as pd\n",
        "import matplotlib.pyplot as plt\n",
        "import seaborn as sns"
      ],
      "metadata": {
        "id": "pmFTKdCH6nZK"
      },
      "execution_count": null,
      "outputs": []
    },
    {
      "cell_type": "code",
      "source": [
        "from google.colab import drive\n",
        "drive.mount('/content/drive')"
      ],
      "metadata": {
        "colab": {
          "base_uri": "https://localhost:8080/"
        },
        "id": "HVPcpjrO9YRI",
        "outputId": "4a793f87-9636-4f7d-f3ec-f03c667de502"
      },
      "execution_count": null,
      "outputs": [
        {
          "output_type": "stream",
          "name": "stdout",
          "text": [
            "Drive already mounted at /content/drive; to attempt to forcibly remount, call drive.mount(\"/content/drive\", force_remount=True).\n"
          ]
        }
      ]
    },
    {
      "cell_type": "code",
      "source": [
        "train_data=pd.read_csv(\"drive/MyDrive/tweets/twitter_training.csv\")\n",
        "train_data=train_data.dropna()"
      ],
      "metadata": {
        "id": "JdCrlBu7_iL8"
      },
      "execution_count": null,
      "outputs": []
    },
    {
      "cell_type": "code",
      "source": [
        "for col in train_data.columns:\n",
        "  print(col)"
      ],
      "metadata": {
        "colab": {
          "base_uri": "https://localhost:8080/"
        },
        "id": "Ccl-VUKPiKEE",
        "outputId": "8ccbb9fd-7b5d-4d35-c53d-a5cfe354642b"
      },
      "execution_count": null,
      "outputs": [
        {
          "output_type": "stream",
          "name": "stdout",
          "text": [
            "2401\n",
            "Borderlands\n",
            "Positive\n",
            "im getting on borderlands and i will murder you all ,\n"
          ]
        }
      ]
    },
    {
      "cell_type": "code",
      "source": [
        "train_data.rename(columns={2401:'id','Borderlands':'name','Positive':'sentiment','im getting on borderlands and i will murder you all ,':'text'},inplace=True)"
      ],
      "metadata": {
        "id": "Cu5DOg-njEhx"
      },
      "execution_count": null,
      "outputs": []
    },
    {
      "cell_type": "code",
      "source": [
        "mapping = {\n",
        "    'Positive': 1,\n",
        "    'Negative': 0,\n",
        "    'Neutral': 2,\n",
        "    'Irrelevant': 4\n",
        "}"
      ],
      "metadata": {
        "id": "2XHqH0gdpCj9"
      },
      "execution_count": null,
      "outputs": []
    },
    {
      "cell_type": "code",
      "source": [
        "train_data['sentiment_label'] = [mapping[value] for value in train_data['sentiment']]"
      ],
      "metadata": {
        "id": "SxAl24C-XU5l"
      },
      "execution_count": null,
      "outputs": []
    },
    {
      "cell_type": "code",
      "source": [
        "train_data=train_data.drop(['2401','name'],axis=1)"
      ],
      "metadata": {
        "id": "_oUlv7EtqUaE"
      },
      "execution_count": null,
      "outputs": []
    },
    {
      "cell_type": "code",
      "source": [
        "import re\n",
        "import nltk\n",
        "from nltk.sentiment.vader import SentimentIntensityAnalyzer\n",
        "from nltk.corpus import stopwords\n",
        "from nltk.tokenize import word_tokenize\n",
        "from nltk.stem import WordNetLemmatizer\n",
        "nltk.download(\"punkt\")\n",
        "nltk.download(\"stopwords\")\n",
        "nltk.download('wordnet')\n",
        "def preprocess_text(text):\n",
        "    if not isinstance(text, str):  # Check if 'text' is not a string\n",
        "        return \"\"  # Return an empty string for non-string values\n",
        "    text=re.sub('<[^>]*>','',text)\n",
        "    text=re.sub('[^a-zA-Z]',' ',text).lower()\n",
        "    words = word_tokenize(text)\n",
        "    stop_words = set(stopwords.words('english'))\n",
        "    words = [word for word in words if word not in stop_words]\n",
        "    lemmatizer = WordNetLemmatizer()\n",
        "    words = [lemmatizer.lemmatize(word) for word in words]\n",
        "    preprocessed_text = ' '.join(words)\n",
        "    return preprocessed_text"
      ],
      "metadata": {
        "colab": {
          "base_uri": "https://localhost:8080/"
        },
        "id": "NDGGv_lyAVdE",
        "outputId": "8fc26044-c59b-4c44-fa36-e0ce0d3eccad"
      },
      "execution_count": null,
      "outputs": [
        {
          "output_type": "stream",
          "name": "stderr",
          "text": [
            "[nltk_data] Downloading package punkt to /root/nltk_data...\n",
            "[nltk_data]   Package punkt is already up-to-date!\n",
            "[nltk_data] Downloading package stopwords to /root/nltk_data...\n",
            "[nltk_data]   Package stopwords is already up-to-date!\n",
            "[nltk_data] Downloading package wordnet to /root/nltk_data...\n",
            "[nltk_data]   Package wordnet is already up-to-date!\n",
            "[nltk_data] Downloading package vader_lexicon to /root/nltk_data...\n",
            "[nltk_data]   Package vader_lexicon is already up-to-date!\n"
          ]
        }
      ]
    },
    {
      "cell_type": "code",
      "source": [
        "train_data['preprocessed_text']=train_data['text'].apply(preprocess_text)"
      ],
      "metadata": {
        "id": "kt785BP9AcIt"
      },
      "execution_count": null,
      "outputs": []
    },
    {
      "cell_type": "code",
      "source": [
        "train_data.nunique()"
      ],
      "metadata": {
        "colab": {
          "base_uri": "https://localhost:8080/"
        },
        "id": "1WMlrKqmUU-k",
        "outputId": "1b8d3395-663a-4a7d-fac2-196bdaf77391"
      },
      "execution_count": null,
      "outputs": [
        {
          "output_type": "execute_result",
          "data": {
            "text/plain": [
              "sentiment                4\n",
              "text                 69490\n",
              "sentiment_label          4\n",
              "preprocessed_text    59828\n",
              "dtype: int64"
            ]
          },
          "metadata": {},
          "execution_count": 73
        }
      ]
    },
    {
      "cell_type": "code",
      "source": [
        "from sklearn.model_selection import train_test_split\n",
        "X_train,X_test,y_train,y_test=train_test_split(train_data['preprocessed_text'],train_data['sentiment_label'],test_size=0.2,random_state=45)\n",
        "#X_train,X_valid,y_train,y_valid=train_test_split(X_train,y_train,test_size=0.2,random_state=45)"
      ],
      "metadata": {
        "id": "eBQ1eF-BILi5"
      },
      "execution_count": null,
      "outputs": []
    },
    {
      "cell_type": "code",
      "source": [
        "y_train.nunique()"
      ],
      "metadata": {
        "colab": {
          "base_uri": "https://localhost:8080/"
        },
        "id": "mvs07WjSTvaI",
        "outputId": "7bac4489-7377-4be3-bae3-93b0f4ecc51b"
      },
      "execution_count": null,
      "outputs": [
        {
          "output_type": "execute_result",
          "data": {
            "text/plain": [
              "4"
            ]
          },
          "metadata": {},
          "execution_count": 75
        }
      ]
    },
    {
      "cell_type": "code",
      "source": [
        "import numpy as np\n",
        "from sklearn.feature_extraction.text import CountVectorizer,TfidfVectorizer\n",
        "from sklearn.svm import SVC\n",
        "from sklearn.metrics import accuracy_score\n",
        "from gensim.models import Word2Vec\n",
        "vectorizer1=CountVectorizer()\n",
        "vectorizer2=TfidfVectorizer()\n",
        "X_train_bow=vectorizer1.fit_transform(X_train)\n",
        "X_test_bow=vectorizer1.transform(X_test)\n",
        "X_train_tfidf=vectorizer2.fit_transform(X_train)\n",
        "X_test_tfidf=vectorizer2.transform(X_test)\n",
        "clf1=SVC()\n",
        "clf1.fit(X_train_bow,y_train)\n",
        "y_predict_bow=clf1.predict(X_test_bow)\n",
        "accuracy_bow=accuracy_score(y_test,y_predict_bow)\n",
        "print(\"Prediction accuracy in BOW is : \",round(accuracy_bow,3)*100,'%')\n",
        "clf2=SVC()\n",
        "clf2.fit(X_train_tfidf,y_train)\n",
        "y_predict_tfidf=clf2.predict(X_test_tfidf)\n",
        "accuracy_tfidf=accuracy_score(y_test,y_predict_tfidf)\n",
        "print(\"Prediction accuracy in tfidf is : \",round(accuracy_tfidf,3)*100,'%')\n"
      ],
      "metadata": {
        "colab": {
          "base_uri": "https://localhost:8080/"
        },
        "id": "95IeJ15sI9jd",
        "outputId": "dd62a258-3e57-46b2-b2c0-e3b8525f5c48"
      },
      "execution_count": null,
      "outputs": [
        {
          "output_type": "stream",
          "name": "stdout",
          "text": [
            "Prediction accuracy in BOW is :  86.5 %\n",
            "Prediction accuracy in tfidf is :  92.2 %\n"
          ]
        }
      ]
    },
    {
      "cell_type": "code",
      "source": [],
      "metadata": {
        "id": "gy-4_XKdG8A8"
      },
      "execution_count": null,
      "outputs": []
    },
    {
      "cell_type": "code",
      "source": [
        "t=\"During Mohammed Azharuddin's time, even Zimbabwe seemed tough for India. Then MK Dhoni came and we started defeating Australia. And we because the world champions. When Manmohan Singh was the PM, even Pakistan seemed powerful. Today, after Modi's arrival we find China to be a lightweight. What's important is who is your captain.\"\n",
        "\n",
        "t=preprocess_text(t)\n",
        "t=[t]"
      ],
      "metadata": {
        "id": "3aFfnBHGRoTM"
      },
      "execution_count": null,
      "outputs": []
    },
    {
      "cell_type": "code",
      "source": [
        "t2=vectorizer2.transform(t)"
      ],
      "metadata": {
        "id": "ZJ_yex5eVNve"
      },
      "execution_count": null,
      "outputs": []
    },
    {
      "cell_type": "code",
      "source": [
        "pred1=clf2.predict(t2)\n",
        "if pred1==0:\n",
        "  print('Negative')\n",
        "elif pred1==1:\n",
        "  print('Positive')\n",
        "elif pred1==2:\n",
        "  print('Neutral')\n",
        "else:\n",
        "  print('Irrelevant')"
      ],
      "metadata": {
        "colab": {
          "base_uri": "https://localhost:8080/"
        },
        "id": "-7eorcXnVZB2",
        "outputId": "1f0f8b6c-711a-49ca-87a1-575adb45383f"
      },
      "execution_count": null,
      "outputs": [
        {
          "output_type": "stream",
          "name": "stdout",
          "text": [
            "Neutral\n"
          ]
        }
      ]
    },
    {
      "cell_type": "code",
      "source": [],
      "metadata": {
        "id": "Ku2IpeUQrW8H"
      },
      "execution_count": null,
      "outputs": []
    }
  ]
}